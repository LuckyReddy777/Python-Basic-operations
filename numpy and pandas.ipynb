{
 "cells": [
  {
   "cell_type": "code",
   "execution_count": 1,
   "id": "3a11ad41",
   "metadata": {},
   "outputs": [],
   "source": [
    "#creating series from a list\n",
    "import numpy as np\n",
    "import pandas as pd "
   ]
  },
  {
   "cell_type": "code",
   "execution_count": 3,
   "id": "11dd2389",
   "metadata": {},
   "outputs": [],
   "source": [
    "first_series = pd.Series(list('abcdef'))"
   ]
  },
  {
   "cell_type": "code",
   "execution_count": 4,
   "id": "bab5c5ad",
   "metadata": {},
   "outputs": [
    {
     "name": "stdout",
     "output_type": "stream",
     "text": [
      "0    a\n",
      "1    b\n",
      "2    c\n",
      "3    d\n",
      "4    e\n",
      "5    f\n",
      "dtype: object\n"
     ]
    }
   ],
   "source": [
    "print(first_series)"
   ]
  },
  {
   "cell_type": "code",
   "execution_count": 5,
   "id": "184197ec",
   "metadata": {},
   "outputs": [],
   "source": [
    "#creating series from an ndarray\n",
    "np_country = np.array(['Luxembourg','Norway','Japan','Switzerland','United states','Qatur','iceland','swedan','singapore','denmark'])"
   ]
  },
  {
   "cell_type": "code",
   "execution_count": 6,
   "id": "539f46a7",
   "metadata": {},
   "outputs": [],
   "source": [
    "s_country = pd.Series(np_country)"
   ]
  },
  {
   "cell_type": "code",
   "execution_count": 7,
   "id": "2bc8b8a9",
   "metadata": {},
   "outputs": [
    {
     "name": "stdout",
     "output_type": "stream",
     "text": [
      "0       Luxembourg\n",
      "1           Norway\n",
      "2            Japan\n",
      "3      Switzerland\n",
      "4    United states\n",
      "5            Qatur\n",
      "6          iceland\n",
      "7           swedan\n",
      "8        singapore\n",
      "9          denmark\n",
      "dtype: object\n"
     ]
    }
   ],
   "source": [
    "print (s_country)"
   ]
  },
  {
   "cell_type": "code",
   "execution_count": 11,
   "id": "d72e478c",
   "metadata": {},
   "outputs": [],
   "source": [
    "#creating Series from dict\n",
    "dict_country_gdp = pd.Series([520.124,415.321,745.125],index=['lux','mac','nor'])"
   ]
  },
  {
   "cell_type": "code",
   "execution_count": 12,
   "id": "7df5eee9",
   "metadata": {},
   "outputs": [
    {
     "name": "stdout",
     "output_type": "stream",
     "text": [
      "lux    520.124\n",
      "mac    415.321\n",
      "nor    745.125\n",
      "dtype: float64\n"
     ]
    }
   ],
   "source": [
    "print (dict_country_gdp)"
   ]
  },
  {
   "cell_type": "code",
   "execution_count": 14,
   "id": "990dacf6",
   "metadata": {},
   "outputs": [],
   "source": [
    "#creating series from scalar input\n",
    "scalar_series = pd.Series(5.,index=['a','b','c','e'])"
   ]
  },
  {
   "cell_type": "code",
   "execution_count": 15,
   "id": "3cd317a8",
   "metadata": {},
   "outputs": [
    {
     "data": {
      "text/plain": [
       "a    5.0\n",
       "b    5.0\n",
       "c    5.0\n",
       "e    5.0\n",
       "dtype: float64"
      ]
     },
     "execution_count": 15,
     "metadata": {},
     "output_type": "execute_result"
    }
   ],
   "source": [
    "scalar_series"
   ]
  },
  {
   "cell_type": "code",
   "execution_count": 16,
   "id": "d91d0c0d",
   "metadata": {},
   "outputs": [
    {
     "data": {
      "text/plain": [
       "520.124"
      ]
     },
     "execution_count": 16,
     "metadata": {},
     "output_type": "execute_result"
    }
   ],
   "source": [
    "#access element in the series\n",
    "dict_country_gdp[0]"
   ]
  },
  {
   "cell_type": "code",
   "execution_count": 17,
   "id": "c4e56923",
   "metadata": {},
   "outputs": [
    {
     "data": {
      "text/plain": [
       "lux    520.124\n",
       "mac    415.321\n",
       "nor    745.125\n",
       "dtype: float64"
      ]
     },
     "execution_count": 17,
     "metadata": {},
     "output_type": "execute_result"
    }
   ],
   "source": [
    "dict_country_gdp[0:5]"
   ]
  },
  {
   "cell_type": "code",
   "execution_count": 19,
   "id": "d9408283",
   "metadata": {},
   "outputs": [
    {
     "data": {
      "text/plain": [
       "415.321"
      ]
     },
     "execution_count": 19,
     "metadata": {},
     "output_type": "execute_result"
    }
   ],
   "source": [
    "dict_country_gdp.loc['mac']"
   ]
  },
  {
   "cell_type": "code",
   "execution_count": 20,
   "id": "18cdee5a",
   "metadata": {},
   "outputs": [
    {
     "data": {
      "text/plain": [
       "520.124"
      ]
     },
     "execution_count": 20,
     "metadata": {},
     "output_type": "execute_result"
    }
   ],
   "source": [
    "dict_country_gdp.iloc[0]"
   ]
  },
  {
   "cell_type": "code",
   "execution_count": 23,
   "id": "522658aa",
   "metadata": {},
   "outputs": [],
   "source": [
    "#vectorizing operations in series\n",
    "first_vector_series = pd.Series([1,2,3,4],index=['a','b','c','d'])\n",
    "second_vector_series = pd.Series([10,20,30,40],index=['a','b','c','d'])"
   ]
  },
  {
   "cell_type": "code",
   "execution_count": 24,
   "id": "70f9536a",
   "metadata": {},
   "outputs": [
    {
     "data": {
      "text/plain": [
       "a    11\n",
       "b    22\n",
       "c    33\n",
       "d    44\n",
       "dtype: int64"
      ]
     },
     "execution_count": 24,
     "metadata": {},
     "output_type": "execute_result"
    }
   ],
   "source": [
    "first_vector_series+second_vector_series\n"
   ]
  },
  {
   "cell_type": "code",
   "execution_count": 25,
   "id": "11687182",
   "metadata": {},
   "outputs": [],
   "source": [
    "second_vector_series = pd.Series([10,20,30,40],index=['a','b','c','d'])"
   ]
  },
  {
   "cell_type": "code",
   "execution_count": 26,
   "id": "e53f9548",
   "metadata": {},
   "outputs": [
    {
     "data": {
      "text/plain": [
       "a    11\n",
       "b    22\n",
       "c    33\n",
       "d    44\n",
       "dtype: int64"
      ]
     },
     "execution_count": 26,
     "metadata": {},
     "output_type": "execute_result"
    }
   ],
   "source": [
    "first_vector_series+second_vector_series"
   ]
  },
  {
   "cell_type": "code",
   "execution_count": 28,
   "id": "a5bae519",
   "metadata": {},
   "outputs": [],
   "source": [
    "second_vector_series = pd.Series([10,20,30,40],index=['a','b','e','f'])"
   ]
  },
  {
   "cell_type": "code",
   "execution_count": 29,
   "id": "9a3b2d73",
   "metadata": {},
   "outputs": [
    {
     "data": {
      "text/plain": [
       "a    11.0\n",
       "b    22.0\n",
       "c     NaN\n",
       "d     NaN\n",
       "e     NaN\n",
       "f     NaN\n",
       "dtype: float64"
      ]
     },
     "execution_count": 29,
     "metadata": {},
     "output_type": "execute_result"
    }
   ],
   "source": [
    "first_vector_series+second_vector_series"
   ]
  },
  {
   "cell_type": "code",
   "execution_count": 30,
   "id": "9b307fdc",
   "metadata": {},
   "outputs": [],
   "source": [
    "#creating data frames from list\n",
    "import pandas as pd "
   ]
  },
  {
   "cell_type": "code",
   "execution_count": 31,
   "id": "eb9590cf",
   "metadata": {},
   "outputs": [],
   "source": [
    "olympic_data_list = {'hos':['lon','beg','ath'],'year':[2012,2008,2004],'no.of par con':[202,201,2012]}"
   ]
  },
  {
   "cell_type": "code",
   "execution_count": 32,
   "id": "b5733eb7",
   "metadata": {},
   "outputs": [],
   "source": [
    "df_olympic_data = pd.DataFrame(olympic_data_list)"
   ]
  },
  {
   "cell_type": "code",
   "execution_count": 33,
   "id": "71c1ccb7",
   "metadata": {},
   "outputs": [
    {
     "data": {
      "text/html": [
       "<div>\n",
       "<style scoped>\n",
       "    .dataframe tbody tr th:only-of-type {\n",
       "        vertical-align: middle;\n",
       "    }\n",
       "\n",
       "    .dataframe tbody tr th {\n",
       "        vertical-align: top;\n",
       "    }\n",
       "\n",
       "    .dataframe thead th {\n",
       "        text-align: right;\n",
       "    }\n",
       "</style>\n",
       "<table border=\"1\" class=\"dataframe\">\n",
       "  <thead>\n",
       "    <tr style=\"text-align: right;\">\n",
       "      <th></th>\n",
       "      <th>hos</th>\n",
       "      <th>year</th>\n",
       "      <th>no.of par con</th>\n",
       "    </tr>\n",
       "  </thead>\n",
       "  <tbody>\n",
       "    <tr>\n",
       "      <th>0</th>\n",
       "      <td>lon</td>\n",
       "      <td>2012</td>\n",
       "      <td>202</td>\n",
       "    </tr>\n",
       "    <tr>\n",
       "      <th>1</th>\n",
       "      <td>beg</td>\n",
       "      <td>2008</td>\n",
       "      <td>201</td>\n",
       "    </tr>\n",
       "    <tr>\n",
       "      <th>2</th>\n",
       "      <td>ath</td>\n",
       "      <td>2004</td>\n",
       "      <td>2012</td>\n",
       "    </tr>\n",
       "  </tbody>\n",
       "</table>\n",
       "</div>"
      ],
      "text/plain": [
       "   hos  year  no.of par con\n",
       "0  lon  2012            202\n",
       "1  beg  2008            201\n",
       "2  ath  2004           2012"
      ]
     },
     "execution_count": 33,
     "metadata": {},
     "output_type": "execute_result"
    }
   ],
   "source": [
    "df_olympic_data"
   ]
  },
  {
   "cell_type": "code",
   "execution_count": 34,
   "id": "c826d84a",
   "metadata": {},
   "outputs": [],
   "source": [
    "olympic_data_dict = {'london':{2012:205},'Beij':{2008:204}}"
   ]
  },
  {
   "cell_type": "code",
   "execution_count": 35,
   "id": "00dc7be4",
   "metadata": {},
   "outputs": [],
   "source": [
    "df_olympic_data_dict = pd.DataFrame(olympic_data_dict)"
   ]
  },
  {
   "cell_type": "code",
   "execution_count": 36,
   "id": "a05c1e58",
   "metadata": {},
   "outputs": [
    {
     "data": {
      "text/html": [
       "<div>\n",
       "<style scoped>\n",
       "    .dataframe tbody tr th:only-of-type {\n",
       "        vertical-align: middle;\n",
       "    }\n",
       "\n",
       "    .dataframe tbody tr th {\n",
       "        vertical-align: top;\n",
       "    }\n",
       "\n",
       "    .dataframe thead th {\n",
       "        text-align: right;\n",
       "    }\n",
       "</style>\n",
       "<table border=\"1\" class=\"dataframe\">\n",
       "  <thead>\n",
       "    <tr style=\"text-align: right;\">\n",
       "      <th></th>\n",
       "      <th>london</th>\n",
       "      <th>Beij</th>\n",
       "    </tr>\n",
       "  </thead>\n",
       "  <tbody>\n",
       "    <tr>\n",
       "      <th>2012</th>\n",
       "      <td>205.0</td>\n",
       "      <td>NaN</td>\n",
       "    </tr>\n",
       "    <tr>\n",
       "      <th>2008</th>\n",
       "      <td>NaN</td>\n",
       "      <td>204.0</td>\n",
       "    </tr>\n",
       "  </tbody>\n",
       "</table>\n",
       "</div>"
      ],
      "text/plain": [
       "      london   Beij\n",
       "2012   205.0    NaN\n",
       "2008     NaN  204.0"
      ]
     },
     "execution_count": 36,
     "metadata": {},
     "output_type": "execute_result"
    }
   ],
   "source": [
    "df_olympic_data_dict"
   ]
  },
  {
   "cell_type": "code",
   "execution_count": 37,
   "id": "7b6ba986",
   "metadata": {},
   "outputs": [
    {
     "data": {
      "text/plain": [
       "0    lon\n",
       "1    beg\n",
       "2    ath\n",
       "Name: hos, dtype: object"
      ]
     },
     "execution_count": 37,
     "metadata": {},
     "output_type": "execute_result"
    }
   ],
   "source": [
    "df_olympic_data.hos"
   ]
  },
  {
   "cell_type": "code",
   "execution_count": 38,
   "id": "36a79624",
   "metadata": {},
   "outputs": [
    {
     "data": {
      "text/plain": [
       "<bound method NDFrame.describe of    hos  year  no.of par con\n",
       "0  lon  2012            202\n",
       "1  beg  2008            201\n",
       "2  ath  2004           2012>"
      ]
     },
     "execution_count": 38,
     "metadata": {},
     "output_type": "execute_result"
    }
   ],
   "source": [
    "df_olympic_data.describe"
   ]
  },
  {
   "cell_type": "code",
   "execution_count": 39,
   "id": "c181a7f4",
   "metadata": {},
   "outputs": [],
   "source": [
    "#create Dataframe from dict of series\n",
    "olympic_series_part = pd.Series([205,202,203],index=[2012,2032,2511])\n",
    "olympic_series_country = pd.Series(['london','beij','ath'],index=[2012,2032,2511])"
   ]
  },
  {
   "cell_type": "code",
   "execution_count": 41,
   "id": "9e0b76f8",
   "metadata": {},
   "outputs": [],
   "source": [
    "df_olympic_series = pd.DataFrame([{'No. of Part coun':olympic_series_part,'host cities':olympic_series_country}])"
   ]
  },
  {
   "cell_type": "code",
   "execution_count": 42,
   "id": "155c2a3f",
   "metadata": {},
   "outputs": [
    {
     "data": {
      "text/html": [
       "<div>\n",
       "<style scoped>\n",
       "    .dataframe tbody tr th:only-of-type {\n",
       "        vertical-align: middle;\n",
       "    }\n",
       "\n",
       "    .dataframe tbody tr th {\n",
       "        vertical-align: top;\n",
       "    }\n",
       "\n",
       "    .dataframe thead th {\n",
       "        text-align: right;\n",
       "    }\n",
       "</style>\n",
       "<table border=\"1\" class=\"dataframe\">\n",
       "  <thead>\n",
       "    <tr style=\"text-align: right;\">\n",
       "      <th></th>\n",
       "      <th>No. of Part coun</th>\n",
       "      <th>host cities</th>\n",
       "    </tr>\n",
       "  </thead>\n",
       "  <tbody>\n",
       "    <tr>\n",
       "      <th>0</th>\n",
       "      <td>2012    205\n",
       "2032    202\n",
       "2511    203\n",
       "dtype: int64</td>\n",
       "      <td>2012    london\n",
       "2032      beij\n",
       "2511       ath\n",
       "d...</td>\n",
       "    </tr>\n",
       "  </tbody>\n",
       "</table>\n",
       "</div>"
      ],
      "text/plain": [
       "                                   No. of Part coun  \\\n",
       "0  2012    205\n",
       "2032    202\n",
       "2511    203\n",
       "dtype: int64   \n",
       "\n",
       "                                         host cities  \n",
       "0  2012    london\n",
       "2032      beij\n",
       "2511       ath\n",
       "d...  "
      ]
     },
     "execution_count": 42,
     "metadata": {},
     "output_type": "execute_result"
    }
   ],
   "source": [
    "df_olympic_series"
   ]
  },
  {
   "cell_type": "code",
   "execution_count": 44,
   "id": "3eba25f5",
   "metadata": {},
   "outputs": [],
   "source": [
    "#creating DATAFRAME from dict of ndarray\n",
    "import numpy as np"
   ]
  },
  {
   "cell_type": "code",
   "execution_count": 46,
   "id": "29147ef8",
   "metadata": {},
   "outputs": [],
   "source": [
    "np_array = np.array([2012,2008,2004,2006])\n",
    "dict_ndarray = {'year':np_array}"
   ]
  },
  {
   "cell_type": "code",
   "execution_count": 47,
   "id": "235b54ee",
   "metadata": {},
   "outputs": [],
   "source": [
    "df_ndarray = pd.DataFrame(dict_ndarray)"
   ]
  },
  {
   "cell_type": "code",
   "execution_count": 48,
   "id": "9ea6286f",
   "metadata": {},
   "outputs": [
    {
     "data": {
      "text/html": [
       "<div>\n",
       "<style scoped>\n",
       "    .dataframe tbody tr th:only-of-type {\n",
       "        vertical-align: middle;\n",
       "    }\n",
       "\n",
       "    .dataframe tbody tr th {\n",
       "        vertical-align: top;\n",
       "    }\n",
       "\n",
       "    .dataframe thead th {\n",
       "        text-align: right;\n",
       "    }\n",
       "</style>\n",
       "<table border=\"1\" class=\"dataframe\">\n",
       "  <thead>\n",
       "    <tr style=\"text-align: right;\">\n",
       "      <th></th>\n",
       "      <th>year</th>\n",
       "    </tr>\n",
       "  </thead>\n",
       "  <tbody>\n",
       "    <tr>\n",
       "      <th>0</th>\n",
       "      <td>2012</td>\n",
       "    </tr>\n",
       "    <tr>\n",
       "      <th>1</th>\n",
       "      <td>2008</td>\n",
       "    </tr>\n",
       "    <tr>\n",
       "      <th>2</th>\n",
       "      <td>2004</td>\n",
       "    </tr>\n",
       "    <tr>\n",
       "      <th>3</th>\n",
       "      <td>2006</td>\n",
       "    </tr>\n",
       "  </tbody>\n",
       "</table>\n",
       "</div>"
      ],
      "text/plain": [
       "   year\n",
       "0  2012\n",
       "1  2008\n",
       "2  2004\n",
       "3  2006"
      ]
     },
     "execution_count": 48,
     "metadata": {},
     "output_type": "execute_result"
    }
   ],
   "source": [
    "df_ndarray"
   ]
  },
  {
   "cell_type": "code",
   "execution_count": 50,
   "id": "e395cb9c",
   "metadata": {},
   "outputs": [],
   "source": [
    "#creating dataframe from dataframe object\n",
    "df_from_df = pd.DataFrame(df_olympic_series)"
   ]
  },
  {
   "cell_type": "code",
   "execution_count": 51,
   "id": "80a5fe43",
   "metadata": {},
   "outputs": [
    {
     "data": {
      "text/html": [
       "<div>\n",
       "<style scoped>\n",
       "    .dataframe tbody tr th:only-of-type {\n",
       "        vertical-align: middle;\n",
       "    }\n",
       "\n",
       "    .dataframe tbody tr th {\n",
       "        vertical-align: top;\n",
       "    }\n",
       "\n",
       "    .dataframe thead th {\n",
       "        text-align: right;\n",
       "    }\n",
       "</style>\n",
       "<table border=\"1\" class=\"dataframe\">\n",
       "  <thead>\n",
       "    <tr style=\"text-align: right;\">\n",
       "      <th></th>\n",
       "      <th>No. of Part coun</th>\n",
       "      <th>host cities</th>\n",
       "    </tr>\n",
       "  </thead>\n",
       "  <tbody>\n",
       "    <tr>\n",
       "      <th>0</th>\n",
       "      <td>2012    205\n",
       "2032    202\n",
       "2511    203\n",
       "dtype: int64</td>\n",
       "      <td>2012    london\n",
       "2032      beij\n",
       "2511       ath\n",
       "d...</td>\n",
       "    </tr>\n",
       "  </tbody>\n",
       "</table>\n",
       "</div>"
      ],
      "text/plain": [
       "                                   No. of Part coun  \\\n",
       "0  2012    205\n",
       "2032    202\n",
       "2511    203\n",
       "dtype: int64   \n",
       "\n",
       "                                         host cities  \n",
       "0  2012    london\n",
       "2032      beij\n",
       "2511       ath\n",
       "d...  "
      ]
     },
     "execution_count": 51,
     "metadata": {},
     "output_type": "execute_result"
    }
   ],
   "source": [
    "df_from_df"
   ]
  },
  {
   "cell_type": "code",
   "execution_count": 52,
   "id": "8ad3b468",
   "metadata": {},
   "outputs": [],
   "source": [
    "#Data operation\n",
    "import pandas as pd "
   ]
  },
  {
   "cell_type": "code",
   "execution_count": 54,
   "id": "df0abbda",
   "metadata": {},
   "outputs": [],
   "source": [
    "df_movie_rating = pd.DataFrame(\n",
    "                {'movie 1': [5,4,3,3,2,1],\n",
    "                'movie 2': [4,5,2,3,4,1]},\n",
    "                 index=['Tom','jef','peter','ram','ted','paul']\n",
    ")                 "
   ]
  },
  {
   "cell_type": "code",
   "execution_count": 55,
   "id": "fbae1529",
   "metadata": {},
   "outputs": [
    {
     "data": {
      "text/html": [
       "<div>\n",
       "<style scoped>\n",
       "    .dataframe tbody tr th:only-of-type {\n",
       "        vertical-align: middle;\n",
       "    }\n",
       "\n",
       "    .dataframe tbody tr th {\n",
       "        vertical-align: top;\n",
       "    }\n",
       "\n",
       "    .dataframe thead th {\n",
       "        text-align: right;\n",
       "    }\n",
       "</style>\n",
       "<table border=\"1\" class=\"dataframe\">\n",
       "  <thead>\n",
       "    <tr style=\"text-align: right;\">\n",
       "      <th></th>\n",
       "      <th>movie 1</th>\n",
       "      <th>movie 2</th>\n",
       "    </tr>\n",
       "  </thead>\n",
       "  <tbody>\n",
       "    <tr>\n",
       "      <th>Tom</th>\n",
       "      <td>5</td>\n",
       "      <td>4</td>\n",
       "    </tr>\n",
       "    <tr>\n",
       "      <th>jef</th>\n",
       "      <td>4</td>\n",
       "      <td>5</td>\n",
       "    </tr>\n",
       "    <tr>\n",
       "      <th>peter</th>\n",
       "      <td>3</td>\n",
       "      <td>2</td>\n",
       "    </tr>\n",
       "    <tr>\n",
       "      <th>ram</th>\n",
       "      <td>3</td>\n",
       "      <td>3</td>\n",
       "    </tr>\n",
       "    <tr>\n",
       "      <th>ted</th>\n",
       "      <td>2</td>\n",
       "      <td>4</td>\n",
       "    </tr>\n",
       "    <tr>\n",
       "      <th>paul</th>\n",
       "      <td>1</td>\n",
       "      <td>1</td>\n",
       "    </tr>\n",
       "  </tbody>\n",
       "</table>\n",
       "</div>"
      ],
      "text/plain": [
       "       movie 1  movie 2\n",
       "Tom          5        4\n",
       "jef          4        5\n",
       "peter        3        2\n",
       "ram          3        3\n",
       "ted          2        4\n",
       "paul         1        1"
      ]
     },
     "execution_count": 55,
     "metadata": {},
     "output_type": "execute_result"
    }
   ],
   "source": [
    "df_movie_rating"
   ]
  },
  {
   "cell_type": "code",
   "execution_count": 56,
   "id": "bea767bb",
   "metadata": {},
   "outputs": [],
   "source": [
    "#data operation with functions\n",
    "def movie_grade(rating):\n",
    "    if rating==5:\n",
    "        return 'A'\n",
    "    if rating==4:\n",
    "        return 'B'\n",
    "    if rating==3:\n",
    "        return 'C'\n",
    "    else:\n",
    "        return 'F'"
   ]
  },
  {
   "cell_type": "code",
   "execution_count": 57,
   "id": "5f14cda8",
   "metadata": {},
   "outputs": [
    {
     "name": "stdout",
     "output_type": "stream",
     "text": [
      "A\n"
     ]
    }
   ],
   "source": [
    "print (movie_grade(5))"
   ]
  },
  {
   "cell_type": "code",
   "execution_count": 59,
   "id": "2056e383",
   "metadata": {},
   "outputs": [
    {
     "data": {
      "text/html": [
       "<div>\n",
       "<style scoped>\n",
       "    .dataframe tbody tr th:only-of-type {\n",
       "        vertical-align: middle;\n",
       "    }\n",
       "\n",
       "    .dataframe tbody tr th {\n",
       "        vertical-align: top;\n",
       "    }\n",
       "\n",
       "    .dataframe thead th {\n",
       "        text-align: right;\n",
       "    }\n",
       "</style>\n",
       "<table border=\"1\" class=\"dataframe\">\n",
       "  <thead>\n",
       "    <tr style=\"text-align: right;\">\n",
       "      <th></th>\n",
       "      <th>movie 1</th>\n",
       "      <th>movie 2</th>\n",
       "    </tr>\n",
       "  </thead>\n",
       "  <tbody>\n",
       "    <tr>\n",
       "      <th>Tom</th>\n",
       "      <td>A</td>\n",
       "      <td>B</td>\n",
       "    </tr>\n",
       "    <tr>\n",
       "      <th>jef</th>\n",
       "      <td>B</td>\n",
       "      <td>A</td>\n",
       "    </tr>\n",
       "    <tr>\n",
       "      <th>peter</th>\n",
       "      <td>C</td>\n",
       "      <td>F</td>\n",
       "    </tr>\n",
       "    <tr>\n",
       "      <th>ram</th>\n",
       "      <td>C</td>\n",
       "      <td>C</td>\n",
       "    </tr>\n",
       "    <tr>\n",
       "      <th>ted</th>\n",
       "      <td>F</td>\n",
       "      <td>B</td>\n",
       "    </tr>\n",
       "    <tr>\n",
       "      <th>paul</th>\n",
       "      <td>F</td>\n",
       "      <td>F</td>\n",
       "    </tr>\n",
       "  </tbody>\n",
       "</table>\n",
       "</div>"
      ],
      "text/plain": [
       "      movie 1 movie 2\n",
       "Tom         A       B\n",
       "jef         B       A\n",
       "peter       C       F\n",
       "ram         C       C\n",
       "ted         F       B\n",
       "paul        F       F"
      ]
     },
     "execution_count": 59,
     "metadata": {},
     "output_type": "execute_result"
    }
   ],
   "source": [
    "df_movie_rating.applymap(movie_grade)"
   ]
  },
  {
   "cell_type": "code",
   "execution_count": 62,
   "id": "7367b003",
   "metadata": {},
   "outputs": [],
   "source": [
    "#data operation with statistical functions\n",
    "df_test_scores = pd.DataFrame(\n",
    "                {'Test1': [95,84,73,88,82,61],\n",
    "                'Test2': [74,85,82,73,77,79]},\n",
    "                 index=['Jack','Lewis','Pat','Rich','Kelly','Paul']\n",
    ")"
   ]
  },
  {
   "cell_type": "code",
   "execution_count": 63,
   "id": "b16410b4",
   "metadata": {},
   "outputs": [
    {
     "data": {
      "text/plain": [
       "Test1    95\n",
       "Test2    85\n",
       "dtype: int64"
      ]
     },
     "execution_count": 63,
     "metadata": {},
     "output_type": "execute_result"
    }
   ],
   "source": [
    "df_test_scores.max()"
   ]
  },
  {
   "cell_type": "code",
   "execution_count": 64,
   "id": "2485d9dc",
   "metadata": {},
   "outputs": [
    {
     "data": {
      "text/plain": [
       "Test1    80.500000\n",
       "Test2    78.333333\n",
       "dtype: float64"
      ]
     },
     "execution_count": 64,
     "metadata": {},
     "output_type": "execute_result"
    }
   ],
   "source": [
    "df_test_scores.mean()"
   ]
  },
  {
   "cell_type": "code",
   "execution_count": 65,
   "id": "813a5ce5",
   "metadata": {},
   "outputs": [
    {
     "data": {
      "text/plain": [
       "Test1    11.979149\n",
       "Test2     4.633213\n",
       "dtype: float64"
      ]
     },
     "execution_count": 65,
     "metadata": {},
     "output_type": "execute_result"
    }
   ],
   "source": [
    "df_test_scores.std()"
   ]
  },
  {
   "cell_type": "code",
   "execution_count": 66,
   "id": "31ee222b",
   "metadata": {},
   "outputs": [],
   "source": [
    "#data operation using groupby\n",
    "df_president_name = pd.DataFrame({'first':['geo','bil','ron'], 'last':['bash','clin','rig']})"
   ]
  },
  {
   "cell_type": "code",
   "execution_count": 67,
   "id": "34912b8f",
   "metadata": {},
   "outputs": [
    {
     "data": {
      "text/html": [
       "<div>\n",
       "<style scoped>\n",
       "    .dataframe tbody tr th:only-of-type {\n",
       "        vertical-align: middle;\n",
       "    }\n",
       "\n",
       "    .dataframe tbody tr th {\n",
       "        vertical-align: top;\n",
       "    }\n",
       "\n",
       "    .dataframe thead th {\n",
       "        text-align: right;\n",
       "    }\n",
       "</style>\n",
       "<table border=\"1\" class=\"dataframe\">\n",
       "  <thead>\n",
       "    <tr style=\"text-align: right;\">\n",
       "      <th></th>\n",
       "      <th>first</th>\n",
       "      <th>last</th>\n",
       "    </tr>\n",
       "  </thead>\n",
       "  <tbody>\n",
       "    <tr>\n",
       "      <th>0</th>\n",
       "      <td>geo</td>\n",
       "      <td>bash</td>\n",
       "    </tr>\n",
       "    <tr>\n",
       "      <th>1</th>\n",
       "      <td>bil</td>\n",
       "      <td>clin</td>\n",
       "    </tr>\n",
       "    <tr>\n",
       "      <th>2</th>\n",
       "      <td>ron</td>\n",
       "      <td>rig</td>\n",
       "    </tr>\n",
       "  </tbody>\n",
       "</table>\n",
       "</div>"
      ],
      "text/plain": [
       "  first  last\n",
       "0   geo  bash\n",
       "1   bil  clin\n",
       "2   ron   rig"
      ]
     },
     "execution_count": 67,
     "metadata": {},
     "output_type": "execute_result"
    }
   ],
   "source": [
    "df_president_name"
   ]
  },
  {
   "cell_type": "code",
   "execution_count": 68,
   "id": "6014e1e9",
   "metadata": {},
   "outputs": [],
   "source": [
    "grouped = df_president_name.groupby('first')"
   ]
  },
  {
   "cell_type": "code",
   "execution_count": 69,
   "id": "1da7f394",
   "metadata": {},
   "outputs": [
    {
     "data": {
      "text/html": [
       "<div>\n",
       "<style scoped>\n",
       "    .dataframe tbody tr th:only-of-type {\n",
       "        vertical-align: middle;\n",
       "    }\n",
       "\n",
       "    .dataframe tbody tr th {\n",
       "        vertical-align: top;\n",
       "    }\n",
       "\n",
       "    .dataframe thead th {\n",
       "        text-align: right;\n",
       "    }\n",
       "</style>\n",
       "<table border=\"1\" class=\"dataframe\">\n",
       "  <thead>\n",
       "    <tr style=\"text-align: right;\">\n",
       "      <th></th>\n",
       "      <th>first</th>\n",
       "      <th>last</th>\n",
       "    </tr>\n",
       "  </thead>\n",
       "  <tbody>\n",
       "    <tr>\n",
       "      <th>0</th>\n",
       "      <td>geo</td>\n",
       "      <td>bash</td>\n",
       "    </tr>\n",
       "  </tbody>\n",
       "</table>\n",
       "</div>"
      ],
      "text/plain": [
       "  first  last\n",
       "0   geo  bash"
      ]
     },
     "execution_count": 69,
     "metadata": {},
     "output_type": "execute_result"
    }
   ],
   "source": [
    "grp_data = grouped.get_group('geo')\n",
    "grp_data"
   ]
  },
  {
   "cell_type": "code",
   "execution_count": 70,
   "id": "9a16bbdd",
   "metadata": {},
   "outputs": [
    {
     "data": {
      "text/html": [
       "<div>\n",
       "<style scoped>\n",
       "    .dataframe tbody tr th:only-of-type {\n",
       "        vertical-align: middle;\n",
       "    }\n",
       "\n",
       "    .dataframe tbody tr th {\n",
       "        vertical-align: top;\n",
       "    }\n",
       "\n",
       "    .dataframe thead th {\n",
       "        text-align: right;\n",
       "    }\n",
       "</style>\n",
       "<table border=\"1\" class=\"dataframe\">\n",
       "  <thead>\n",
       "    <tr style=\"text-align: right;\">\n",
       "      <th></th>\n",
       "      <th>first</th>\n",
       "      <th>last</th>\n",
       "    </tr>\n",
       "  </thead>\n",
       "  <tbody>\n",
       "    <tr>\n",
       "      <th>1</th>\n",
       "      <td>bil</td>\n",
       "      <td>clin</td>\n",
       "    </tr>\n",
       "    <tr>\n",
       "      <th>0</th>\n",
       "      <td>geo</td>\n",
       "      <td>bash</td>\n",
       "    </tr>\n",
       "    <tr>\n",
       "      <th>2</th>\n",
       "      <td>ron</td>\n",
       "      <td>rig</td>\n",
       "    </tr>\n",
       "  </tbody>\n",
       "</table>\n",
       "</div>"
      ],
      "text/plain": [
       "  first  last\n",
       "1   bil  clin\n",
       "0   geo  bash\n",
       "2   ron   rig"
      ]
     },
     "execution_count": 70,
     "metadata": {},
     "output_type": "execute_result"
    }
   ],
   "source": [
    "df_president_name.sort_values('first')"
   ]
  },
  {
   "cell_type": "code",
   "execution_count": 71,
   "id": "5eebc657",
   "metadata": {},
   "outputs": [],
   "source": [
    "#data standardization\n",
    "def standardize_tests(test):\n",
    "    return(test-test.mean())/test.std()"
   ]
  },
  {
   "cell_type": "code",
   "execution_count": 78,
   "id": "791ddb7d",
   "metadata": {},
   "outputs": [
    {
     "data": {
      "text/plain": [
       "Jack     1.210437\n",
       "Lewis    0.292174\n",
       "Pat     -0.626088\n",
       "Rich     0.626088\n",
       "Kelly    0.125218\n",
       "Paul    -1.627829\n",
       "Name: Test1, dtype: float64"
      ]
     },
     "execution_count": 78,
     "metadata": {},
     "output_type": "execute_result"
    }
   ],
   "source": [
    "standardize_tests(df_test_scores['Test1'])"
   ]
  },
  {
   "cell_type": "code",
   "execution_count": 79,
   "id": "9790bc28",
   "metadata": {},
   "outputs": [],
   "source": [
    "def standartize_test_scores(datafrm):\n",
    "    return datafrm.apply(standardize_tests)"
   ]
  },
  {
   "cell_type": "code",
   "execution_count": 80,
   "id": "1c5a3ed9",
   "metadata": {},
   "outputs": [
    {
     "ename": "NameError",
     "evalue": "name 'standardize_test_scores' is not defined",
     "output_type": "error",
     "traceback": [
      "\u001b[1;31m---------------------------------------------------------------------------\u001b[0m",
      "\u001b[1;31mNameError\u001b[0m                                 Traceback (most recent call last)",
      "\u001b[1;32m<ipython-input-80-82a83ae34111>\u001b[0m in \u001b[0;36m<module>\u001b[1;34m\u001b[0m\n\u001b[1;32m----> 1\u001b[1;33m \u001b[0mstandardize_test_scores\u001b[0m\u001b[1;33m(\u001b[0m\u001b[0mdf_test_scores\u001b[0m\u001b[1;33m)\u001b[0m\u001b[1;33m\u001b[0m\u001b[1;33m\u001b[0m\u001b[0m\n\u001b[0m",
      "\u001b[1;31mNameError\u001b[0m: name 'standardize_test_scores' is not defined"
     ]
    }
   ],
   "source": [
    "standardize_test_scores(df_test_scores)"
   ]
  },
  {
   "cell_type": "code",
   "execution_count": 81,
   "id": "35aad03a",
   "metadata": {},
   "outputs": [],
   "source": [
    "import pandas as pd "
   ]
  },
  {
   "cell_type": "code",
   "execution_count": 82,
   "id": "35d26fba",
   "metadata": {},
   "outputs": [],
   "source": [
    "import sqlite3"
   ]
  },
  {
   "cell_type": "code",
   "execution_count": 83,
   "id": "3e23b9c3",
   "metadata": {},
   "outputs": [],
   "source": [
    "create_table = \"\"\"\"\n",
    "CREATE TABLE student_score\n",
    "(Id INTEGER, Name VARCHAR(20), Math REAL,\n",
    "Science REAL\n",
    ");\"\"\""
   ]
  },
  {
   "cell_type": "code",
   "execution_count": 85,
   "id": "d3faa93a",
   "metadata": {},
   "outputs": [
    {
     "ename": "OperationalError",
     "evalue": "unrecognized token: \"\"\nCREATE TABLE student_score\n(Id INTEGER, Name VARCHAR(20), Math REAL,\nScience REAL\n);\"",
     "output_type": "error",
     "traceback": [
      "\u001b[1;31m---------------------------------------------------------------------------\u001b[0m",
      "\u001b[1;31mOperationalError\u001b[0m                          Traceback (most recent call last)",
      "\u001b[1;32m<ipython-input-85-e2855a1bd5ff>\u001b[0m in \u001b[0;36m<module>\u001b[1;34m\u001b[0m\n\u001b[0;32m      1\u001b[0m \u001b[0mexecuteSQL\u001b[0m \u001b[1;33m=\u001b[0m \u001b[0msqlite3\u001b[0m\u001b[1;33m.\u001b[0m\u001b[0mconnect\u001b[0m\u001b[1;33m(\u001b[0m\u001b[1;34m':memory:'\u001b[0m\u001b[1;33m)\u001b[0m\u001b[1;33m\u001b[0m\u001b[1;33m\u001b[0m\u001b[0m\n\u001b[1;32m----> 2\u001b[1;33m \u001b[0mexecuteSQL\u001b[0m\u001b[1;33m.\u001b[0m\u001b[0mexecute\u001b[0m\u001b[1;33m(\u001b[0m\u001b[0mcreate_table\u001b[0m\u001b[1;33m)\u001b[0m\u001b[1;33m\u001b[0m\u001b[1;33m\u001b[0m\u001b[0m\n\u001b[0m\u001b[0;32m      3\u001b[0m \u001b[0mexecuteSQL\u001b[0m\u001b[1;33m.\u001b[0m\u001b[0mcommit\u001b[0m\u001b[1;33m(\u001b[0m\u001b[1;33m)\u001b[0m\u001b[1;33m\u001b[0m\u001b[1;33m\u001b[0m\u001b[0m\n",
      "\u001b[1;31mOperationalError\u001b[0m: unrecognized token: \"\"\nCREATE TABLE student_score\n(Id INTEGER, Name VARCHAR(20), Math REAL,\nScience REAL\n);\""
     ]
    }
   ],
   "source": [
    "executeSQL = sqlite3.connect(':memory:')\n",
    "executeSQL.execute(create_table)\n",
    "executeSQL.commit()"
   ]
  },
  {
   "cell_type": "code",
   "execution_count": null,
   "id": "8460132b",
   "metadata": {},
   "outputs": [],
   "source": []
  }
 ],
 "metadata": {
  "kernelspec": {
   "display_name": "Python 3",
   "language": "python",
   "name": "python3"
  },
  "language_info": {
   "codemirror_mode": {
    "name": "ipython",
    "version": 3
   },
   "file_extension": ".py",
   "mimetype": "text/x-python",
   "name": "python",
   "nbconvert_exporter": "python",
   "pygments_lexer": "ipython3",
   "version": "3.8.8"
  }
 },
 "nbformat": 4,
 "nbformat_minor": 5
}
