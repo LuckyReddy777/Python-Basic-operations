{
 "cells": [
  {
   "cell_type": "code",
   "execution_count": 7,
   "id": "e9b374e7",
   "metadata": {},
   "outputs": [],
   "source": [
    "import numpy as np\n",
    "distance=[10,15,17,26]\n",
    "time=[.30,.47,.55,1.20]"
   ]
  },
  {
   "cell_type": "code",
   "execution_count": 8,
   "id": "bb8f1691",
   "metadata": {},
   "outputs": [],
   "source": [
    "np_distance = np.array(distance)\n",
    "np_time=np.array(time)"
   ]
  },
  {
   "cell_type": "code",
   "execution_count": 12,
   "id": "da439436",
   "metadata": {},
   "outputs": [],
   "source": [
    "speed=np_distance/np_time\n"
   ]
  },
  {
   "cell_type": "code",
   "execution_count": 13,
   "id": "0e8e06bb",
   "metadata": {},
   "outputs": [
    {
     "data": {
      "text/plain": [
       "array([33.33333333, 31.91489362, 30.90909091, 21.66666667])"
      ]
     },
     "execution_count": 13,
     "metadata": {},
     "output_type": "execute_result"
    }
   ],
   "source": [
    "speed"
   ]
  },
  {
   "cell_type": "code",
   "execution_count": 14,
   "id": "edc09c67",
   "metadata": {},
   "outputs": [],
   "source": [
    "np_city = np.array(['NYC','LA','Miami','Houston'])"
   ]
  },
  {
   "cell_type": "code",
   "execution_count": 15,
   "id": "aa37850e",
   "metadata": {},
   "outputs": [
    {
     "data": {
      "text/plain": [
       "1"
      ]
     },
     "execution_count": 15,
     "metadata": {},
     "output_type": "execute_result"
    }
   ],
   "source": [
    "np_city.ndim"
   ]
  },
  {
   "cell_type": "code",
   "execution_count": 16,
   "id": "559cc0db",
   "metadata": {},
   "outputs": [],
   "source": [
    "np_city_with_state=np.array([['NYC','LA','Miami','Houston'],['NY','CA','FA','TA']])"
   ]
  },
  {
   "cell_type": "code",
   "execution_count": 17,
   "id": "4a0895c4",
   "metadata": {},
   "outputs": [
    {
     "data": {
      "text/plain": [
       "2"
      ]
     },
     "execution_count": 17,
     "metadata": {},
     "output_type": "execute_result"
    }
   ],
   "source": [
    "np_city_with_state.ndim"
   ]
  },
  {
   "cell_type": "code",
   "execution_count": 18,
   "id": "6a025a9e",
   "metadata": {},
   "outputs": [
    {
     "data": {
      "text/plain": [
       "(4,)"
      ]
     },
     "execution_count": 18,
     "metadata": {},
     "output_type": "execute_result"
    }
   ],
   "source": [
    "np_city.shape"
   ]
  },
  {
   "cell_type": "code",
   "execution_count": 19,
   "id": "e5d52c05",
   "metadata": {},
   "outputs": [
    {
     "data": {
      "text/plain": [
       "(2, 4)"
      ]
     },
     "execution_count": 19,
     "metadata": {},
     "output_type": "execute_result"
    }
   ],
   "source": [
    "np_city_with_state.shape"
   ]
  },
  {
   "cell_type": "code",
   "execution_count": 20,
   "id": "92a7ab85",
   "metadata": {},
   "outputs": [
    {
     "data": {
      "text/plain": [
       "4"
      ]
     },
     "execution_count": 20,
     "metadata": {},
     "output_type": "execute_result"
    }
   ],
   "source": [
    "np_city.size"
   ]
  },
  {
   "cell_type": "code",
   "execution_count": 21,
   "id": "6304ea2f",
   "metadata": {},
   "outputs": [
    {
     "data": {
      "text/plain": [
       "8"
      ]
     },
     "execution_count": 21,
     "metadata": {},
     "output_type": "execute_result"
    }
   ],
   "source": [
    "np_city_with_state.size"
   ]
  },
  {
   "cell_type": "code",
   "execution_count": 22,
   "id": "39ab4544",
   "metadata": {},
   "outputs": [
    {
     "data": {
      "text/plain": [
       "array(['NYC', 'LA', 'Miami', 'Houston'], dtype='<U7')"
      ]
     },
     "execution_count": 22,
     "metadata": {},
     "output_type": "execute_result"
    }
   ],
   "source": [
    "np_city"
   ]
  },
  {
   "cell_type": "code",
   "execution_count": 23,
   "id": "055bd3fe",
   "metadata": {},
   "outputs": [
    {
     "data": {
      "text/plain": [
       "array([['NYC', 'LA', 'Miami', 'Houston'],\n",
       "       ['NY', 'CA', 'FA', 'TA']], dtype='<U7')"
      ]
     },
     "execution_count": 23,
     "metadata": {},
     "output_type": "execute_result"
    }
   ],
   "source": [
    "np_city_with_state"
   ]
  },
  {
   "cell_type": "code",
   "execution_count": 24,
   "id": "cb60b150",
   "metadata": {},
   "outputs": [
    {
     "data": {
      "text/plain": [
       "dtype('<U7')"
      ]
     },
     "execution_count": 24,
     "metadata": {},
     "output_type": "execute_result"
    }
   ],
   "source": [
    "np_city_with_state.dtype"
   ]
  },
  {
   "cell_type": "code",
   "execution_count": 25,
   "id": "6854efee",
   "metadata": {},
   "outputs": [],
   "source": [
    "first_trail_cyclist = [10,15,17,26]"
   ]
  },
  {
   "cell_type": "code",
   "execution_count": 26,
   "id": "6452dc7b",
   "metadata": {},
   "outputs": [],
   "source": [
    "second_trail_cyclist = [12,11,21,24]\n"
   ]
  },
  {
   "cell_type": "code",
   "execution_count": 27,
   "id": "c8433316",
   "metadata": {},
   "outputs": [],
   "source": [
    "np_first_trail_cyclist = np.array(first_trail_cyclist)\n"
   ]
  },
  {
   "cell_type": "code",
   "execution_count": 28,
   "id": "c40f9037",
   "metadata": {},
   "outputs": [],
   "source": [
    "np_second_trail_cylist = np.array(second_trail_cyclist)"
   ]
  },
  {
   "cell_type": "code",
   "execution_count": 29,
   "id": "5321896d",
   "metadata": {},
   "outputs": [
    {
     "data": {
      "text/plain": [
       "array([22, 26, 38, 50])"
      ]
     },
     "execution_count": 29,
     "metadata": {},
     "output_type": "execute_result"
    }
   ],
   "source": [
    "np_first_trail_cyclist+np_second_trail_cylist"
   ]
  },
  {
   "cell_type": "code",
   "execution_count": 30,
   "id": "998ee95a",
   "metadata": {},
   "outputs": [],
   "source": [
    "cylist_trails = np.array([[10,15,17,26],[12,11,21,24]])"
   ]
  },
  {
   "cell_type": "code",
   "execution_count": 31,
   "id": "eaf790c5",
   "metadata": {},
   "outputs": [],
   "source": [
    "first_trail = cylist_trails[0]"
   ]
  },
  {
   "cell_type": "code",
   "execution_count": 32,
   "id": "c4a80d72",
   "metadata": {},
   "outputs": [
    {
     "data": {
      "text/plain": [
       "array([10, 15, 17, 26])"
      ]
     },
     "execution_count": 32,
     "metadata": {},
     "output_type": "execute_result"
    }
   ],
   "source": [
    "first_trail"
   ]
  },
  {
   "cell_type": "code",
   "execution_count": 34,
   "id": "7557b5e8",
   "metadata": {},
   "outputs": [],
   "source": [
    "second_trail = cylist_trails[1]"
   ]
  },
  {
   "cell_type": "code",
   "execution_count": 35,
   "id": "0f7738ff",
   "metadata": {},
   "outputs": [
    {
     "data": {
      "text/plain": [
       "array([12, 11, 21, 24])"
      ]
     },
     "execution_count": 35,
     "metadata": {},
     "output_type": "execute_result"
    }
   ],
   "source": [
    "second_trail"
   ]
  },
  {
   "cell_type": "code",
   "execution_count": 36,
   "id": "65f7c2cb",
   "metadata": {},
   "outputs": [],
   "source": [
    "first_cylist_firstTrail = cylist_trails[0][0]"
   ]
  },
  {
   "cell_type": "code",
   "execution_count": 37,
   "id": "1934eae5",
   "metadata": {},
   "outputs": [
    {
     "data": {
      "text/plain": [
       "10"
      ]
     },
     "execution_count": 37,
     "metadata": {},
     "output_type": "execute_result"
    }
   ],
   "source": [
    "first_cylist_firstTrail"
   ]
  },
  {
   "cell_type": "code",
   "execution_count": 38,
   "id": "0806f9b4",
   "metadata": {},
   "outputs": [],
   "source": [
    "first_cylist_all_trails = cylist_trails[: , 0]"
   ]
  },
  {
   "cell_type": "code",
   "execution_count": 39,
   "id": "5a7a6da5",
   "metadata": {},
   "outputs": [
    {
     "data": {
      "text/plain": [
       "array([10, 12])"
      ]
     },
     "execution_count": 39,
     "metadata": {},
     "output_type": "execute_result"
    }
   ],
   "source": [
    "first_cylist_all_trails"
   ]
  },
  {
   "cell_type": "code",
   "execution_count": 40,
   "id": "486e4806",
   "metadata": {},
   "outputs": [
    {
     "data": {
      "text/plain": [
       "(2, 4)"
      ]
     },
     "execution_count": 40,
     "metadata": {},
     "output_type": "execute_result"
    }
   ],
   "source": [
    "cylist_trails.shape"
   ]
  },
  {
   "cell_type": "code",
   "execution_count": 41,
   "id": "97e7403b",
   "metadata": {},
   "outputs": [],
   "source": [
    "two_cylist_trail_data=cylist_trails[: ,1:3]"
   ]
  },
  {
   "cell_type": "code",
   "execution_count": 42,
   "id": "6fb77844",
   "metadata": {},
   "outputs": [
    {
     "data": {
      "text/plain": [
       "array([[15, 17],\n",
       "       [11, 21]])"
      ]
     },
     "execution_count": 42,
     "metadata": {},
     "output_type": "execute_result"
    }
   ],
   "source": [
    "two_cylist_trail_data"
   ]
  },
  {
   "cell_type": "code",
   "execution_count": 43,
   "id": "ba93a06d",
   "metadata": {},
   "outputs": [],
   "source": [
    "cyclist_trails = np.array([[10,15,17,26],[12,11,21,24]])"
   ]
  },
  {
   "cell_type": "code",
   "execution_count": 45,
   "id": "4ee3696e",
   "metadata": {},
   "outputs": [],
   "source": [
    "two_cylist_trail_data=cylist_trails[: ,1:3]"
   ]
  },
  {
   "cell_type": "code",
   "execution_count": 46,
   "id": "2c99f8a1",
   "metadata": {},
   "outputs": [
    {
     "data": {
      "text/plain": [
       "array([[15, 17],\n",
       "       [11, 21]])"
      ]
     },
     "execution_count": 46,
     "metadata": {},
     "output_type": "execute_result"
    }
   ],
   "source": [
    "two_cylist_trail_data"
   ]
  },
  {
   "cell_type": "code",
   "execution_count": 47,
   "id": "e0f62f62",
   "metadata": {},
   "outputs": [
    {
     "name": "stdout",
     "output_type": "stream",
     "text": [
      "[10 15 17 26]\n",
      "[12 11 21 24]\n"
     ]
    }
   ],
   "source": [
    "for iterate_cylist_trails_data in cylist_trails:\n",
    "    print (iterate_cylist_trails_data)"
   ]
  },
  {
   "cell_type": "code",
   "execution_count": 55,
   "id": "5880b81c",
   "metadata": {},
   "outputs": [
    {
     "name": "stdout",
     "output_type": "stream",
     "text": [
      "[15 17]\n",
      "[11 21]\n"
     ]
    }
   ],
   "source": [
    "for iterate_two_cylist_trail_data in two_cylist_trail_data:\n",
    "    print (iterate_two_cylist_trail_data)"
   ]
  },
  {
   "cell_type": "code",
   "execution_count": 57,
   "id": "8709ec52",
   "metadata": {},
   "outputs": [],
   "source": [
    "test_scores = np.array([[82,71,57,63],[54,68,81,45]])"
   ]
  },
  {
   "cell_type": "code",
   "execution_count": 60,
   "id": "6d797c3d",
   "metadata": {},
   "outputs": [],
   "source": [
    "passing_score = test_scores>60"
   ]
  },
  {
   "cell_type": "code",
   "execution_count": 62,
   "id": "a3cd23dd",
   "metadata": {},
   "outputs": [
    {
     "data": {
      "text/plain": [
       "array([[ True,  True, False,  True],\n",
       "       [False,  True,  True, False]])"
      ]
     },
     "execution_count": 62,
     "metadata": {},
     "output_type": "execute_result"
    }
   ],
   "source": [
    "passing_score"
   ]
  },
  {
   "cell_type": "code",
   "execution_count": 63,
   "id": "081af224",
   "metadata": {},
   "outputs": [
    {
     "data": {
      "text/plain": [
       "array([82, 71, 63, 68, 81])"
      ]
     },
     "execution_count": 63,
     "metadata": {},
     "output_type": "execute_result"
    }
   ],
   "source": [
    "test_scores[passing_score]"
   ]
  },
  {
   "cell_type": "code",
   "execution_count": 64,
   "id": "ae6806f1",
   "metadata": {},
   "outputs": [],
   "source": [
    "NYC_Borough = np.array(['Manhattan','Bronx','Brooklyn','staten Island','Queens'])"
   ]
  },
  {
   "cell_type": "code",
   "execution_count": 65,
   "id": "c67f5ee5",
   "metadata": {},
   "outputs": [
    {
     "data": {
      "text/plain": [
       "array(['Manhattan', 'Bronx', 'Brooklyn', 'staten Island', 'Queens'],\n",
       "      dtype='<U13')"
      ]
     },
     "execution_count": 65,
     "metadata": {},
     "output_type": "execute_result"
    }
   ],
   "source": [
    "NYC_Borough"
   ]
  },
  {
   "cell_type": "code",
   "execution_count": 66,
   "id": "162475d3",
   "metadata": {},
   "outputs": [],
   "source": [
    "Boroughs_in_NYC = NYC_Borough"
   ]
  },
  {
   "cell_type": "code",
   "execution_count": 67,
   "id": "e2dd3ad2",
   "metadata": {},
   "outputs": [
    {
     "data": {
      "text/plain": [
       "array(['Manhattan', 'Bronx', 'Brooklyn', 'staten Island', 'Queens'],\n",
       "      dtype='<U13')"
      ]
     },
     "execution_count": 67,
     "metadata": {},
     "output_type": "execute_result"
    }
   ],
   "source": [
    "Boroughs_in_NYC"
   ]
  },
  {
   "cell_type": "code",
   "execution_count": 68,
   "id": "e1dfee3c",
   "metadata": {},
   "outputs": [
    {
     "data": {
      "text/plain": [
       "True"
      ]
     },
     "execution_count": 68,
     "metadata": {},
     "output_type": "execute_result"
    }
   ],
   "source": [
    "Boroughs_in_NYC is NYC_Borough"
   ]
  },
  {
   "cell_type": "code",
   "execution_count": 69,
   "id": "7e507016",
   "metadata": {},
   "outputs": [
    {
     "data": {
      "text/plain": [
       "array(['Manhattan', 'Bronx', 'Brooklyn', 'staten Island', 'Queens'],\n",
       "      dtype='<U13')"
      ]
     },
     "execution_count": 69,
     "metadata": {},
     "output_type": "execute_result"
    }
   ],
   "source": [
    "Boroughs_in_NYC"
   ]
  },
  {
   "cell_type": "code",
   "execution_count": 70,
   "id": "5c1036c1",
   "metadata": {},
   "outputs": [],
   "source": [
    "View_of_Borough_in_NYC = Boroughs_in_NYC.view()"
   ]
  },
  {
   "cell_type": "code",
   "execution_count": 71,
   "id": "898dbc6f",
   "metadata": {},
   "outputs": [
    {
     "data": {
      "text/plain": [
       "5"
      ]
     },
     "execution_count": 71,
     "metadata": {},
     "output_type": "execute_result"
    }
   ],
   "source": [
    "len(View_of_Borough_in_NYC)"
   ]
  },
  {
   "cell_type": "code",
   "execution_count": 72,
   "id": "11cbfc6d",
   "metadata": {},
   "outputs": [],
   "source": [
    "View_of_Borough_in_NYC[4]='Central Park'"
   ]
  },
  {
   "cell_type": "code",
   "execution_count": 73,
   "id": "a3185f35",
   "metadata": {},
   "outputs": [
    {
     "data": {
      "text/plain": [
       "array(['Manhattan', 'Bronx', 'Brooklyn', 'staten Island', 'Central Park'],\n",
       "      dtype='<U13')"
      ]
     },
     "execution_count": 73,
     "metadata": {},
     "output_type": "execute_result"
    }
   ],
   "source": [
    "View_of_Borough_in_NYC"
   ]
  },
  {
   "cell_type": "code",
   "execution_count": 74,
   "id": "9b6c5de6",
   "metadata": {},
   "outputs": [
    {
     "data": {
      "text/plain": [
       "array(['Manhattan', 'Bronx', 'Brooklyn', 'staten Island', 'Central Park'],\n",
       "      dtype='<U13')"
      ]
     },
     "execution_count": 74,
     "metadata": {},
     "output_type": "execute_result"
    }
   ],
   "source": [
    "Boroughs_in_NYC"
   ]
  },
  {
   "cell_type": "code",
   "execution_count": 75,
   "id": "d54b5708",
   "metadata": {},
   "outputs": [],
   "source": [
    "copy_of_NYC_Borough = NYC_Borough.copy()"
   ]
  },
  {
   "cell_type": "code",
   "execution_count": 76,
   "id": "dbe7cfee",
   "metadata": {},
   "outputs": [
    {
     "data": {
      "text/plain": [
       "False"
      ]
     },
     "execution_count": 76,
     "metadata": {},
     "output_type": "execute_result"
    }
   ],
   "source": [
    "copy_of_NYC_Borough is NYC_Borough"
   ]
  },
  {
   "cell_type": "code",
   "execution_count": 77,
   "id": "aae73303",
   "metadata": {},
   "outputs": [
    {
     "data": {
      "text/plain": [
       "False"
      ]
     },
     "execution_count": 77,
     "metadata": {},
     "output_type": "execute_result"
    }
   ],
   "source": [
    "copy_of_NYC_Borough.base is NYC_Borough"
   ]
  },
  {
   "cell_type": "code",
   "execution_count": 78,
   "id": "e722504f",
   "metadata": {},
   "outputs": [],
   "source": [
    "copy_of_NYC_Borough[4]='Central Park'"
   ]
  },
  {
   "cell_type": "code",
   "execution_count": 79,
   "id": "c841ff9e",
   "metadata": {},
   "outputs": [
    {
     "data": {
      "text/plain": [
       "array(['Manhattan', 'Bronx', 'Brooklyn', 'staten Island', 'Central Park'],\n",
       "      dtype='<U13')"
      ]
     },
     "execution_count": 79,
     "metadata": {},
     "output_type": "execute_result"
    }
   ],
   "source": [
    "NYC_Borough"
   ]
  },
  {
   "cell_type": "code",
   "execution_count": 80,
   "id": "027d2bb9",
   "metadata": {},
   "outputs": [
    {
     "data": {
      "text/plain": [
       "array(['Manhattan', 'Bronx', 'Brooklyn', 'staten Island', 'Central Park'],\n",
       "      dtype='<U13')"
      ]
     },
     "execution_count": 80,
     "metadata": {},
     "output_type": "execute_result"
    }
   ],
   "source": [
    "copy_of_NYC_Borough"
   ]
  },
  {
   "cell_type": "code",
   "execution_count": 81,
   "id": "7723da3f",
   "metadata": {},
   "outputs": [],
   "source": [
    "np_sqrt = np.sqrt([2,4,9,16])"
   ]
  },
  {
   "cell_type": "code",
   "execution_count": 82,
   "id": "1ed6184e",
   "metadata": {},
   "outputs": [
    {
     "data": {
      "text/plain": [
       "array([1.41421356, 2.        , 3.        , 4.        ])"
      ]
     },
     "execution_count": 82,
     "metadata": {},
     "output_type": "execute_result"
    }
   ],
   "source": [
    "np_sqrt"
   ]
  },
  {
   "cell_type": "code",
   "execution_count": 83,
   "id": "b15e91ea",
   "metadata": {},
   "outputs": [
    {
     "data": {
      "text/plain": [
       "1.0"
      ]
     },
     "execution_count": 83,
     "metadata": {},
     "output_type": "execute_result"
    }
   ],
   "source": [
    "from numpy import pi \n",
    "np.cos(0)"
   ]
  },
  {
   "cell_type": "code",
   "execution_count": 84,
   "id": "c50bde30",
   "metadata": {},
   "outputs": [
    {
     "data": {
      "text/plain": [
       "1.0"
      ]
     },
     "execution_count": 84,
     "metadata": {},
     "output_type": "execute_result"
    }
   ],
   "source": [
    "np.sin(pi/2)"
   ]
  },
  {
   "cell_type": "code",
   "execution_count": 85,
   "id": "4a43a7cf",
   "metadata": {},
   "outputs": [
    {
     "data": {
      "text/plain": [
       "-1.0"
      ]
     },
     "execution_count": 85,
     "metadata": {},
     "output_type": "execute_result"
    }
   ],
   "source": [
    "np.cos(pi)"
   ]
  },
  {
   "cell_type": "code",
   "execution_count": 86,
   "id": "9ab7788a",
   "metadata": {},
   "outputs": [
    {
     "data": {
      "text/plain": [
       "array([ 1.,  1.,  2.,  3.,  1., -1., -2.])"
      ]
     },
     "execution_count": 86,
     "metadata": {},
     "output_type": "execute_result"
    }
   ],
   "source": [
    "np.floor([1.5,1.6,2.7,3.3,1.1,-0.3,-1.4])"
   ]
  },
  {
   "cell_type": "code",
   "execution_count": 87,
   "id": "1f716ecf",
   "metadata": {},
   "outputs": [
    {
     "data": {
      "text/plain": [
       "array([  1.        ,   2.71828183, 148.4131591 ])"
      ]
     },
     "execution_count": 87,
     "metadata": {},
     "output_type": "execute_result"
    }
   ],
   "source": [
    "np.exp([0,1,5])"
   ]
  },
  {
   "cell_type": "code",
   "execution_count": 88,
   "id": "9bf134f9",
   "metadata": {},
   "outputs": [],
   "source": [
    "new_cylist_trails = np.array([[10,15,17,26,13,19],[12,11,21,24,14,12]])"
   ]
  },
  {
   "cell_type": "code",
   "execution_count": 89,
   "id": "ef0accd7",
   "metadata": {},
   "outputs": [
    {
     "data": {
      "text/plain": [
       "array([10, 15, 17, 26, 13, 19, 12, 11, 21, 24, 14, 12])"
      ]
     },
     "execution_count": 89,
     "metadata": {},
     "output_type": "execute_result"
    }
   ],
   "source": [
    "new_cylist_trails.ravel()"
   ]
  },
  {
   "cell_type": "code",
   "execution_count": 90,
   "id": "c20f1739",
   "metadata": {},
   "outputs": [
    {
     "data": {
      "text/plain": [
       "array([[10, 15, 17, 26],\n",
       "       [13, 19, 12, 11],\n",
       "       [21, 24, 14, 12]])"
      ]
     },
     "execution_count": 90,
     "metadata": {},
     "output_type": "execute_result"
    }
   ],
   "source": [
    "new_cylist_trails.reshape(3,4)"
   ]
  },
  {
   "cell_type": "code",
   "execution_count": 91,
   "id": "1737800a",
   "metadata": {},
   "outputs": [],
   "source": [
    "new_cylist_trails.resize(2,6)"
   ]
  },
  {
   "cell_type": "code",
   "execution_count": 92,
   "id": "5328bd74",
   "metadata": {},
   "outputs": [
    {
     "data": {
      "text/plain": [
       "array([[10, 15, 17, 26, 13, 19],\n",
       "       [12, 11, 21, 24, 14, 12]])"
      ]
     },
     "execution_count": 92,
     "metadata": {},
     "output_type": "execute_result"
    }
   ],
   "source": [
    "new_cylist_trails"
   ]
  },
  {
   "cell_type": "code",
   "execution_count": 93,
   "id": "29d44c44",
   "metadata": {},
   "outputs": [
    {
     "data": {
      "text/plain": [
       "[array([[10, 15, 17],\n",
       "        [12, 11, 21]]),\n",
       " array([[26, 13, 19],\n",
       "        [24, 14, 12]])]"
      ]
     },
     "execution_count": 93,
     "metadata": {},
     "output_type": "execute_result"
    }
   ],
   "source": [
    "np.hsplit(new_cylist_trails,2)"
   ]
  },
  {
   "cell_type": "code",
   "execution_count": 94,
   "id": "88728282",
   "metadata": {},
   "outputs": [],
   "source": [
    "new_cylist_1 = np.array([10,15,17,26,13,19])"
   ]
  },
  {
   "cell_type": "code",
   "execution_count": 95,
   "id": "ea90d5af",
   "metadata": {},
   "outputs": [],
   "source": [
    "new_cylist_2 = np.array([12,11,21,24,14,23])"
   ]
  },
  {
   "cell_type": "code",
   "execution_count": 97,
   "id": "f905dcea",
   "metadata": {},
   "outputs": [
    {
     "data": {
      "text/plain": [
       "array([10, 15, 17, 26, 13, 19, 12, 11, 21, 24, 14, 23])"
      ]
     },
     "execution_count": 97,
     "metadata": {},
     "output_type": "execute_result"
    }
   ],
   "source": [
    "np.hstack((new_cylist_1, new_cylist_2))"
   ]
  },
  {
   "cell_type": "code",
   "execution_count": 98,
   "id": "52a969c5",
   "metadata": {},
   "outputs": [],
   "source": [
    "import numpy as np"
   ]
  },
  {
   "cell_type": "code",
   "execution_count": 99,
   "id": "f3cd77d9",
   "metadata": {},
   "outputs": [],
   "source": [
    "array_a = np.array([2, 3, 5, 8])\n",
    "array_b = np.array([.3, .3, .3, .3])"
   ]
  },
  {
   "cell_type": "code",
   "execution_count": 100,
   "id": "22928206",
   "metadata": {},
   "outputs": [
    {
     "data": {
      "text/plain": [
       "array([0.6, 0.9, 1.5, 2.4])"
      ]
     },
     "execution_count": 100,
     "metadata": {},
     "output_type": "execute_result"
    }
   ],
   "source": [
    "array_a * array_b"
   ]
  },
  {
   "cell_type": "code",
   "execution_count": 101,
   "id": "003e6d4a",
   "metadata": {},
   "outputs": [],
   "source": [
    "scalar_c = .3"
   ]
  },
  {
   "cell_type": "code",
   "execution_count": 102,
   "id": "8726d7c9",
   "metadata": {},
   "outputs": [
    {
     "data": {
      "text/plain": [
       "array([0.6, 0.9, 1.5, 2.4])"
      ]
     },
     "execution_count": 102,
     "metadata": {},
     "output_type": "execute_result"
    }
   ],
   "source": [
    "array_a * scalar_c"
   ]
  },
  {
   "cell_type": "code",
   "execution_count": 103,
   "id": "376b2779",
   "metadata": {},
   "outputs": [],
   "source": [
    "import numpy as np"
   ]
  },
  {
   "cell_type": "code",
   "execution_count": 104,
   "id": "a15c5b31",
   "metadata": {},
   "outputs": [],
   "source": [
    "array_a = np.array([2, 3, 5, 8])\n",
    "array_b = np.array([.3, .3, .3, .3])"
   ]
  },
  {
   "cell_type": "code",
   "execution_count": 105,
   "id": "8b6bb762",
   "metadata": {},
   "outputs": [
    {
     "data": {
      "text/plain": [
       "array([0.6, 0.9, 1.5, 2.4])"
      ]
     },
     "execution_count": 105,
     "metadata": {},
     "output_type": "execute_result"
    }
   ],
   "source": [
    "array_a * array_b"
   ]
  },
  {
   "cell_type": "code",
   "execution_count": 107,
   "id": "351a6a8f",
   "metadata": {},
   "outputs": [],
   "source": [
    "array_d = np.array([4,3])"
   ]
  },
  {
   "cell_type": "code",
   "execution_count": 108,
   "id": "212b0fad",
   "metadata": {},
   "outputs": [
    {
     "ename": "ValueError",
     "evalue": "operands could not be broadcast together with shapes (4,) (2,) ",
     "output_type": "error",
     "traceback": [
      "\u001b[1;31m---------------------------------------------------------------------------\u001b[0m",
      "\u001b[1;31mValueError\u001b[0m                                Traceback (most recent call last)",
      "\u001b[1;32m<ipython-input-108-7a89817209be>\u001b[0m in \u001b[0;36m<module>\u001b[1;34m\u001b[0m\n\u001b[1;32m----> 1\u001b[1;33m \u001b[0marray_a\u001b[0m \u001b[1;33m*\u001b[0m \u001b[0marray_d\u001b[0m\u001b[1;33m\u001b[0m\u001b[1;33m\u001b[0m\u001b[0m\n\u001b[0m",
      "\u001b[1;31mValueError\u001b[0m: operands could not be broadcast together with shapes (4,) (2,) "
     ]
    }
   ],
   "source": [
    "array_a * array_d"
   ]
  },
  {
   "cell_type": "code",
   "execution_count": 110,
   "id": "8b24d27c",
   "metadata": {},
   "outputs": [],
   "source": [
    "np_week_one = np.array([105, 135, 195, 120, 165])\n",
    "np_week_two = np.array([123, 156, 230, 200, 147])"
   ]
  },
  {
   "cell_type": "code",
   "execution_count": 114,
   "id": "d1962cda",
   "metadata": {},
   "outputs": [
    {
     "ename": "NameError",
     "evalue": "name 'np_week_one' is not defined",
     "output_type": "error",
     "traceback": [
      "\u001b[1;31m---------------------------------------------------------------------------\u001b[0m",
      "\u001b[1;31mNameError\u001b[0m                                 Traceback (most recent call last)",
      "\u001b[1;32m<ipython-input-114-a46ef6d844f6>\u001b[0m in \u001b[0;36m<module>\u001b[1;34m\u001b[0m\n\u001b[1;32m----> 1\u001b[1;33m \u001b[0mtotal_earning\u001b[0m \u001b[1;33m=\u001b[0m \u001b[0mnp_week_one\u001b[0m\u001b[1;33m+\u001b[0m\u001b[0mnp_week_two\u001b[0m\u001b[1;33m\u001b[0m\u001b[1;33m\u001b[0m\u001b[0m\n\u001b[0m",
      "\u001b[1;31mNameError\u001b[0m: name 'np_week_one' is not defined"
     ]
    }
   ],
   "source": [
    "total_earning = np_week_one+np_week_two"
   ]
  },
  {
   "cell_type": "code",
   "execution_count": 116,
   "id": "19a8f4fc",
   "metadata": {},
   "outputs": [],
   "source": [
    "test_scores =np.array([[83,71,57,63],[54,68,81,45]])"
   ]
  },
  {
   "cell_type": "code",
   "execution_count": 117,
   "id": "32c5ad56",
   "metadata": {},
   "outputs": [
    {
     "data": {
      "text/plain": [
       "array([[83, 54],\n",
       "       [71, 68],\n",
       "       [57, 81],\n",
       "       [63, 45]])"
      ]
     },
     "execution_count": 117,
     "metadata": {},
     "output_type": "execute_result"
    }
   ],
   "source": [
    "test_scores.transpose()"
   ]
  },
  {
   "cell_type": "code",
   "execution_count": 118,
   "id": "9af6b273",
   "metadata": {},
   "outputs": [],
   "source": [
    "inverse_array =np.array([[10,20],[15,25]])"
   ]
  },
  {
   "cell_type": "code",
   "execution_count": 119,
   "id": "9d856898",
   "metadata": {},
   "outputs": [
    {
     "data": {
      "text/plain": [
       "array([[-0.5,  0.4],\n",
       "       [ 0.3, -0.2]])"
      ]
     },
     "execution_count": 119,
     "metadata": {},
     "output_type": "execute_result"
    }
   ],
   "source": [
    "np.linalg.inv(inverse_array)"
   ]
  },
  {
   "cell_type": "code",
   "execution_count": 120,
   "id": "2e501743",
   "metadata": {},
   "outputs": [],
   "source": [
    "trace_array =np.array([[10,20],[22,31]])"
   ]
  },
  {
   "cell_type": "code",
   "execution_count": 121,
   "id": "e6f7ef3c",
   "metadata": {},
   "outputs": [
    {
     "data": {
      "text/plain": [
       "41"
      ]
     },
     "execution_count": 121,
     "metadata": {},
     "output_type": "execute_result"
    }
   ],
   "source": [
    "np.trace(trace_array)"
   ]
  },
  {
   "cell_type": "code",
   "execution_count": null,
   "id": "805eafce",
   "metadata": {},
   "outputs": [],
   "source": []
  }
 ],
 "metadata": {
  "kernelspec": {
   "display_name": "Python 3",
   "language": "python",
   "name": "python3"
  },
  "language_info": {
   "codemirror_mode": {
    "name": "ipython",
    "version": 3
   },
   "file_extension": ".py",
   "mimetype": "text/x-python",
   "name": "python",
   "nbconvert_exporter": "python",
   "pygments_lexer": "ipython3",
   "version": "3.8.8"
  }
 },
 "nbformat": 4,
 "nbformat_minor": 5
}
