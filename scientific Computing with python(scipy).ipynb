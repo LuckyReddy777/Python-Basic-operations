{
 "cells": [
  {
   "cell_type": "code",
   "execution_count": 1,
   "id": "6276193c",
   "metadata": {},
   "outputs": [],
   "source": [
    "from scipy.integrate import quad\n",
    "#Integration"
   ]
  },
  {
   "cell_type": "code",
   "execution_count": 2,
   "id": "c3831f31",
   "metadata": {},
   "outputs": [],
   "source": [
    "def integrateFunction(x):\n",
    "    return x"
   ]
  },
  {
   "cell_type": "code",
   "execution_count": 4,
   "id": "1a1ac758",
   "metadata": {},
   "outputs": [
    {
     "data": {
      "text/plain": [
       "(0.5, 5.551115123125783e-15)"
      ]
     },
     "execution_count": 4,
     "metadata": {},
     "output_type": "execute_result"
    }
   ],
   "source": [
    "quad(integrateFunction,0,1)"
   ]
  },
  {
   "cell_type": "code",
   "execution_count": 5,
   "id": "1789d9c3",
   "metadata": {},
   "outputs": [],
   "source": [
    "def integrateFn(x,a,b):\n",
    "    return x*a+b"
   ]
  },
  {
   "cell_type": "code",
   "execution_count": 6,
   "id": "a480203b",
   "metadata": {},
   "outputs": [],
   "source": [
    "a=3 \n",
    "b=2"
   ]
  },
  {
   "cell_type": "code",
   "execution_count": 7,
   "id": "4d28f0b1",
   "metadata": {},
   "outputs": [
    {
     "data": {
      "text/plain": [
       "(3.5, 3.885780586188048e-14)"
      ]
     },
     "execution_count": 7,
     "metadata": {},
     "output_type": "execute_result"
    }
   ],
   "source": [
    "quad(integrateFn,0,1,args=(a,b))"
   ]
  },
  {
   "cell_type": "code",
   "execution_count": 8,
   "id": "5f0a28d0",
   "metadata": {},
   "outputs": [],
   "source": [
    "import scipy.integrate as integrate"
   ]
  },
  {
   "cell_type": "code",
   "execution_count": 11,
   "id": "36ad0f3d",
   "metadata": {},
   "outputs": [
    {
     "data": {
      "text/plain": [
       "(3.0, 4.436070580899685e-14)"
      ]
     },
     "execution_count": 11,
     "metadata": {},
     "output_type": "execute_result"
    }
   ],
   "source": [
    "def f(x, y):\n",
    "    return x + y\n",
    "integrate.dblquad(f, 0, 1,lambda x: 0, lambda x: 2)"
   ]
  },
  {
   "cell_type": "code",
   "execution_count": 12,
   "id": "a6d9af45",
   "metadata": {},
   "outputs": [],
   "source": [
    "import numpy as np\n",
    "from scipy import optimize\n",
    "#optimization"
   ]
  },
  {
   "cell_type": "code",
   "execution_count": 14,
   "id": "c3cb35ed",
   "metadata": {},
   "outputs": [],
   "source": [
    "def f(x):\n",
    "    return x**2 + 5*np.sin(x)"
   ]
  },
  {
   "cell_type": "code",
   "execution_count": 15,
   "id": "5585e72d",
   "metadata": {},
   "outputs": [
    {
     "name": "stdout",
     "output_type": "stream",
     "text": [
      "Optimization terminated successfully.\n",
      "         Current function value: -3.246394\n",
      "         Iterations: 5\n",
      "         Function evaluations: 18\n",
      "         Gradient evaluations: 9\n"
     ]
    }
   ],
   "source": [
    "minimaValue = optimize.minimize(f,x0=2,method='bfgs' ,options={'disp':True})"
   ]
  },
  {
   "cell_type": "code",
   "execution_count": 18,
   "id": "31a1212f",
   "metadata": {},
   "outputs": [],
   "source": [
    "minimaValueWithoutOpt = optimize.minimize(f ,x0=2,method='bfgs')"
   ]
  },
  {
   "cell_type": "code",
   "execution_count": 19,
   "id": "9f367e17",
   "metadata": {},
   "outputs": [
    {
     "data": {
      "text/plain": [
       "      fun: -3.2463942726915214\n",
       " hess_inv: array([[0.15445818]])\n",
       "      jac: array([-4.76837158e-07])\n",
       "  message: 'Optimization terminated successfully.'\n",
       "     nfev: 18\n",
       "      nit: 5\n",
       "     njev: 9\n",
       "   status: 0\n",
       "  success: True\n",
       "        x: array([-1.11051058])"
      ]
     },
     "execution_count": 19,
     "metadata": {},
     "output_type": "execute_result"
    }
   ],
   "source": [
    "minimaValueWithoutOpt"
   ]
  },
  {
   "cell_type": "code",
   "execution_count": 20,
   "id": "9682172a",
   "metadata": {},
   "outputs": [
    {
     "data": {
      "text/plain": [
       "array([[10,  6],\n",
       "       [ 2,  7]])"
      ]
     },
     "execution_count": 20,
     "metadata": {},
     "output_type": "execute_result"
    }
   ],
   "source": [
    "#lINEAR ALGEBRA\n",
    "#Inverse of matrix\n",
    "import numpy as np\n",
    "from scipy import linalg\n",
    "matrix = np.array([[10,6],[2,7]])\n",
    "matrix"
   ]
  },
  {
   "cell_type": "code",
   "execution_count": 21,
   "id": "b497afa9",
   "metadata": {},
   "outputs": [
    {
     "data": {
      "text/plain": [
       "numpy.ndarray"
      ]
     },
     "execution_count": 21,
     "metadata": {},
     "output_type": "execute_result"
    }
   ],
   "source": [
    "type(matrix)"
   ]
  },
  {
   "cell_type": "code",
   "execution_count": 22,
   "id": "cede0fbb",
   "metadata": {},
   "outputs": [
    {
     "data": {
      "text/plain": [
       "array([[ 0.12068966, -0.10344828],\n",
       "       [-0.03448276,  0.17241379]])"
      ]
     },
     "execution_count": 22,
     "metadata": {},
     "output_type": "execute_result"
    }
   ],
   "source": [
    "linalg.inv(matrix)"
   ]
  },
  {
   "cell_type": "code",
   "execution_count": 23,
   "id": "da271190",
   "metadata": {},
   "outputs": [
    {
     "data": {
      "text/plain": [
       "array([[4, 9],\n",
       "       [3, 5]])"
      ]
     },
     "execution_count": 23,
     "metadata": {},
     "output_type": "execute_result"
    }
   ],
   "source": [
    "#finding deterniant\n",
    "import numpy as np\n",
    "from scipy import linalg\n",
    "matrix = np.array([[4,9],[3,5]])\n",
    "matrix"
   ]
  },
  {
   "cell_type": "code",
   "execution_count": 24,
   "id": "4110094d",
   "metadata": {},
   "outputs": [
    {
     "data": {
      "text/plain": [
       "-7.000000000000001"
      ]
     },
     "execution_count": 24,
     "metadata": {},
     "output_type": "execute_result"
    }
   ],
   "source": [
    "linalg.det(matrix)"
   ]
  },
  {
   "cell_type": "code",
   "execution_count": 26,
   "id": "fd25a857",
   "metadata": {},
   "outputs": [],
   "source": [
    "#Slove linear systems\n",
    "import numpy as np\n",
    "from scipy import linalg"
   ]
  },
  {
   "cell_type": "code",
   "execution_count": 32,
   "id": "0fe8f753",
   "metadata": {},
   "outputs": [],
   "source": [
    "numArray = np.array([[2,3,1],[-1,5,4],[3,2,9]])"
   ]
  },
  {
   "cell_type": "code",
   "execution_count": 33,
   "id": "a9a40cbf",
   "metadata": {},
   "outputs": [],
   "source": [
    "numArrValue = np.array([21,9,6])"
   ]
  },
  {
   "cell_type": "code",
   "execution_count": 35,
   "id": "d65ff389",
   "metadata": {},
   "outputs": [
    {
     "data": {
      "text/plain": [
       "array([ 4.95,  4.35, -1.95])"
      ]
     },
     "execution_count": 35,
     "metadata": {},
     "output_type": "execute_result"
    }
   ],
   "source": [
    "linalg.solve(numArray,numArrValue)"
   ]
  },
  {
   "cell_type": "code",
   "execution_count": 36,
   "id": "34d3f503",
   "metadata": {},
   "outputs": [],
   "source": [
    "#single value decomposition(SVD)\n",
    "import numpy as np\n",
    "from scipy import linalg"
   ]
  },
  {
   "cell_type": "code",
   "execution_count": 37,
   "id": "85f96cd1",
   "metadata": {},
   "outputs": [],
   "source": [
    "numSvdArr = np.array([[3,5,1],[9,5,7]])"
   ]
  },
  {
   "cell_type": "code",
   "execution_count": 38,
   "id": "ea8aebb6",
   "metadata": {},
   "outputs": [
    {
     "data": {
      "text/plain": [
       "(2, 3)"
      ]
     },
     "execution_count": 38,
     "metadata": {},
     "output_type": "execute_result"
    }
   ],
   "source": [
    "numSvdArr.shape"
   ]
  },
  {
   "cell_type": "code",
   "execution_count": 39,
   "id": "e01bdc40",
   "metadata": {},
   "outputs": [
    {
     "data": {
      "text/plain": [
       "(array([[-0.37879831,  0.92547925],\n",
       "        [-0.92547925, -0.37879831]]),\n",
       " array([13.38464336,  3.29413449]),\n",
       " array([[-0.7072066 , -0.4872291 , -0.51231496],\n",
       "        [-0.19208294,  0.82977932, -0.52399467],\n",
       "        [-0.68041382,  0.27216553,  0.68041382]]))"
      ]
     },
     "execution_count": 39,
     "metadata": {},
     "output_type": "execute_result"
    }
   ],
   "source": [
    "linalg.svd(numSvdArr)"
   ]
  },
  {
   "cell_type": "code",
   "execution_count": 40,
   "id": "8cc1054c",
   "metadata": {},
   "outputs": [],
   "source": [
    "#Statistics\n",
    "from scipy.stats import norm"
   ]
  },
  {
   "cell_type": "code",
   "execution_count": 41,
   "id": "ecec40de",
   "metadata": {},
   "outputs": [
    {
     "data": {
      "text/plain": [
       "array([-1.38900314, -2.08949598,  0.65549404, -1.41833151, -1.01597645,\n",
       "       -1.24761418, -0.513848  , -1.71513758,  1.21581252, -0.5009397 ])"
      ]
     },
     "execution_count": 41,
     "metadata": {},
     "output_type": "execute_result"
    }
   ],
   "source": [
    "norm.rvs(loc=0,scale=1,size=10)"
   ]
  },
  {
   "cell_type": "code",
   "execution_count": 42,
   "id": "471a0504",
   "metadata": {},
   "outputs": [
    {
     "data": {
      "text/plain": [
       "0.9772498680518208"
      ]
     },
     "execution_count": 42,
     "metadata": {},
     "output_type": "execute_result"
    }
   ],
   "source": [
    "norm.cdf(5,loc=1,scale=2)"
   ]
  },
  {
   "cell_type": "code",
   "execution_count": 43,
   "id": "ac0d8556",
   "metadata": {},
   "outputs": [
    {
     "data": {
      "text/plain": [
       "1.0279773571668917e-18"
      ]
     },
     "execution_count": 43,
     "metadata": {},
     "output_type": "execute_result"
    }
   ],
   "source": [
    "norm.pdf(9,loc=0,scale=1)"
   ]
  },
  {
   "cell_type": "code",
   "execution_count": null,
   "id": "531d7bb0",
   "metadata": {},
   "outputs": [],
   "source": []
  }
 ],
 "metadata": {
  "kernelspec": {
   "display_name": "Python 3",
   "language": "python",
   "name": "python3"
  },
  "language_info": {
   "codemirror_mode": {
    "name": "ipython",
    "version": 3
   },
   "file_extension": ".py",
   "mimetype": "text/x-python",
   "name": "python",
   "nbconvert_exporter": "python",
   "pygments_lexer": "ipython3",
   "version": "3.8.8"
  }
 },
 "nbformat": 4,
 "nbformat_minor": 5
}
